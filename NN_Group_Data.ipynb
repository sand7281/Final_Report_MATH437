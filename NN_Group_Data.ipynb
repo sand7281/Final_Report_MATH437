{
 "cells": [
  {
   "cell_type": "code",
   "execution_count": 1,
   "metadata": {},
   "outputs": [],
   "source": [
    "import numpy as np                   # Numerical computation library\n",
    "import pandas as pa                  # Dataframe and Data manipulation Library\n",
    "import matplotlib.pyplot as plt      # Basic plotting functionality Library\n",
    "import seaborn as sn                 # Advanced Data visualization Library\n",
    "import numpy.random as rn\n",
    "from sklearn.linear_model import LinearRegression\n",
    "import matplotlib.colors as pltco # A package to help with coloring plots\n",
    "\n",
    "\n",
    "[x for x in dir(list) if not '__' in x]\n",
    "\n",
    "group_data = pa.read_csv('https://www.dropbox.com/s/dupzzfsbkor282d/437_Group_Data1.csv?dl=1')"
   ]
  },
  {
   "cell_type": "code",
   "execution_count": 2,
   "metadata": {},
   "outputs": [
    {
     "data": {
      "text/html": [
       "<div>\n",
       "<style scoped>\n",
       "    .dataframe tbody tr th:only-of-type {\n",
       "        vertical-align: middle;\n",
       "    }\n",
       "\n",
       "    .dataframe tbody tr th {\n",
       "        vertical-align: top;\n",
       "    }\n",
       "\n",
       "    .dataframe thead th {\n",
       "        text-align: right;\n",
       "    }\n",
       "</style>\n",
       "<table border=\"1\" class=\"dataframe\">\n",
       "  <thead>\n",
       "    <tr style=\"text-align: right;\">\n",
       "      <th></th>\n",
       "      <th>Career Category</th>\n",
       "      <th>Total employed</th>\n",
       "      <th>Women</th>\n",
       "      <th>Men</th>\n",
       "      <th>White</th>\n",
       "      <th>Black or African American</th>\n",
       "      <th>Asian</th>\n",
       "      <th>Hispanic or Latino</th>\n",
       "    </tr>\n",
       "  </thead>\n",
       "  <tbody>\n",
       "    <tr>\n",
       "      <th>0</th>\n",
       "      <td>Crop production</td>\n",
       "      <td>1,435</td>\n",
       "      <td>27.803400</td>\n",
       "      <td>72.196600</td>\n",
       "      <td>93.545400</td>\n",
       "      <td>2.321500</td>\n",
       "      <td>1.687900</td>\n",
       "      <td>34.703300</td>\n",
       "    </tr>\n",
       "    <tr>\n",
       "      <th>1</th>\n",
       "      <td>Animal production</td>\n",
       "      <td>823</td>\n",
       "      <td>26.414200</td>\n",
       "      <td>73.585800</td>\n",
       "      <td>93.010600</td>\n",
       "      <td>1.629600</td>\n",
       "      <td>1.652200</td>\n",
       "      <td>18.551400</td>\n",
       "    </tr>\n",
       "    <tr>\n",
       "      <th>2</th>\n",
       "      <td>Logging</td>\n",
       "      <td>166</td>\n",
       "      <td>7.500000</td>\n",
       "      <td>92.500000</td>\n",
       "      <td>86.000000</td>\n",
       "      <td>5.100000</td>\n",
       "      <td>1.400000</td>\n",
       "      <td>8.800000</td>\n",
       "    </tr>\n",
       "    <tr>\n",
       "      <th>3</th>\n",
       "      <td>Supervisor</td>\n",
       "      <td>1,216</td>\n",
       "      <td>10.640262</td>\n",
       "      <td>89.359738</td>\n",
       "      <td>88.013388</td>\n",
       "      <td>6.319574</td>\n",
       "      <td>2.011359</td>\n",
       "      <td>29.762781</td>\n",
       "    </tr>\n",
       "    <tr>\n",
       "      <th>4</th>\n",
       "      <td>Entry level Construction</td>\n",
       "      <td>10,478</td>\n",
       "      <td>10.300000</td>\n",
       "      <td>89.700000</td>\n",
       "      <td>88.100000</td>\n",
       "      <td>6.400000</td>\n",
       "      <td>1.900000</td>\n",
       "      <td>30.400000</td>\n",
       "    </tr>\n",
       "  </tbody>\n",
       "</table>\n",
       "</div>"
      ],
      "text/plain": [
       "            Career Category Total employed      Women        Men      White  \\\n",
       "0           Crop production          1,435  27.803400  72.196600  93.545400   \n",
       "1         Animal production            823  26.414200  73.585800  93.010600   \n",
       "2                   Logging            166   7.500000  92.500000  86.000000   \n",
       "3                Supervisor          1,216  10.640262  89.359738  88.013388   \n",
       "4  Entry level Construction         10,478  10.300000  89.700000  88.100000   \n",
       "\n",
       "   Black or African American     Asian  Hispanic or Latino  \n",
       "0                   2.321500  1.687900           34.703300  \n",
       "1                   1.629600  1.652200           18.551400  \n",
       "2                   5.100000  1.400000            8.800000  \n",
       "3                   6.319574  2.011359           29.762781  \n",
       "4                   6.400000  1.900000           30.400000  "
      ]
     },
     "execution_count": 2,
     "metadata": {},
     "output_type": "execute_result"
    }
   ],
   "source": [
    "group_data.head()"
   ]
  },
  {
   "cell_type": "code",
   "execution_count": 15,
   "metadata": {},
   "outputs": [],
   "source": [
    "group_data = group_data.replace(',','',regex=True)"
   ]
  },
  {
   "cell_type": "code",
   "execution_count": 47,
   "metadata": {},
   "outputs": [],
   "source": [
    "X = np.array(group_data[['Men', 'Women', 'Black or African American', 'Asian', 'Hispanic or Latino']])\n",
    "y = np.array(group_data['Total employed'])"
   ]
  },
  {
   "cell_type": "code",
   "execution_count": 48,
   "metadata": {},
   "outputs": [],
   "source": [
    "from sklearn.model_selection import train_test_split"
   ]
  },
  {
   "cell_type": "code",
   "execution_count": 49,
   "metadata": {},
   "outputs": [],
   "source": [
    "x_train,x_test,y_train,y_test=train_test_split(X,y,test_size=0.2)"
   ]
  },
  {
   "cell_type": "code",
   "execution_count": 50,
   "metadata": {},
   "outputs": [],
   "source": [
    "v = [0]*X.shape[1]\n",
    "for k in range(X.shape[1]):\n",
    "    M = X[:, k].max()\n",
    "    m = X[:, k].min()\n",
    "    v[k] = (X[:, k] - m)/(M - m)\n",
    "Xn = np.c_[v].transpose()   "
   ]
  },
  {
   "cell_type": "code",
   "execution_count": 51,
   "metadata": {},
   "outputs": [],
   "source": [
    "from sklearn.neural_network import MLPRegressor"
   ]
  },
  {
   "cell_type": "code",
   "execution_count": 55,
   "metadata": {},
   "outputs": [],
   "source": [
    "mlp = MLPRegressor(hidden_layer_sizes = (100), solver = 'lbfgs', activation = 'relu', alpha=0.0001)\n",
    "mlp.fit(x_train,y_train)\n",
    "predictions3 = mlp.predict(x_test)\n",
    "#plot_reg_model(mlp, Xn, y);"
   ]
  },
  {
   "cell_type": "code",
   "execution_count": 74,
   "metadata": {},
   "outputs": [
    {
     "name": "stdout",
     "output_type": "stream",
     "text": [
      "[2611 1865 3039 2010 2885 2885  992 3201 2413  652 1865  943 1021 1942\n",
      " 3574]\n"
     ]
    }
   ],
   "source": [
    "print(predictions3.astype(int))"
   ]
  },
  {
   "cell_type": "code",
   "execution_count": 77,
   "metadata": {},
   "outputs": [
    {
     "name": "stdout",
     "output_type": "stream",
     "text": [
      "[3795 2298 3260  239  128  189 9369 9711  150  823 3447   68  127  254\n",
      " 1489]\n"
     ]
    }
   ],
   "source": [
    "y_test_array = np.array(y_test)\n",
    "y_test_array = y_test_array.astype(int)\n",
    "print(y_test_array)"
   ]
  },
  {
   "cell_type": "code",
   "execution_count": 78,
   "metadata": {},
   "outputs": [
    {
     "name": "stdout",
     "output_type": "stream",
     "text": [
      "Average Distance between y_test and Nueral Network predictions(total employees): [229]\n"
     ]
    }
   ],
   "source": [
    "total_sum = 0\n",
    "\n",
    "for i in range (len(y_test)):\n",
    "    distance = y_test_array[[i]] - predictions3[[i]]\n",
    "    total_sum += distance\n",
    "    \n",
    "total_average = abs(total_sum//len(y_test)).astype(int)   ## Prints the average distance between my prediction and y_train. could easily be switched to y_test - going to try for 'detailed' group\n",
    "print(\"Average Distance between y_test and Nueral Network predictions(total employees):\", total_average)"
   ]
  },
  {
   "cell_type": "code",
   "execution_count": 79,
   "metadata": {},
   "outputs": [],
   "source": [
    "projection_central = pa.read_csv('https://www.dropbox.com/s/emd7111t9g0rtd2/career_projections_group.csv?dl=1')\n",
    "\n",
    "#projection_central.head() "
   ]
  },
  {
   "cell_type": "code",
   "execution_count": 91,
   "metadata": {},
   "outputs": [
    {
     "data": {
      "text/plain": [
       "(72, 5)"
      ]
     },
     "execution_count": 91,
     "metadata": {},
     "output_type": "execute_result"
    }
   ],
   "source": [
    "X2.shape"
   ]
  },
  {
   "cell_type": "code",
   "execution_count": 92,
   "metadata": {},
   "outputs": [
    {
     "data": {
      "text/plain": [
       "(685,)"
      ]
     },
     "execution_count": 92,
     "metadata": {},
     "output_type": "execute_result"
    }
   ],
   "source": [
    "y2.shape"
   ]
  },
  {
   "cell_type": "code",
   "execution_count": 115,
   "metadata": {},
   "outputs": [
    {
     "data": {
      "text/plain": [
       "(14, 34)"
      ]
     },
     "execution_count": 115,
     "metadata": {},
     "output_type": "execute_result"
    }
   ],
   "source": [
    "merged_inner = pa.merge(left=group_data, right=projection_central, left_on='Total employed', right_on='Base')\n",
    "# In this case `species_id` is the only column name in  both dataframes, so if we skipped `left_on`\n",
    "# And `right_on` arguments we would still get the same result\n",
    "\n",
    "# What's the size of the output data?\n",
    "merged_inner.shape"
   ]
  },
  {
   "cell_type": "code",
   "execution_count": 118,
   "metadata": {},
   "outputs": [
    {
     "data": {
      "text/plain": [
       "Career Category               object\n",
       "Total employed                object\n",
       "Women                        float64\n",
       "Men                          float64\n",
       "White                        float64\n",
       "Black or African American    float64\n",
       "Asian                        float64\n",
       "Hispanic or Latino           float64\n",
       "Unnamed: 0                   float64\n",
       "State FIPS                    object\n",
       "Area Name                     object\n",
       "Occupation Code               object\n",
       "Occupation Name               object\n",
       "Base Year                     object\n",
       "Base                          object\n",
       "Projected Year                object\n",
       "Projection                    object\n",
       "Change                        object\n",
       "Percent Change                object\n",
       "Average Annual Openings       object\n",
       "Unnamed: 12                  float64\n",
       "Unnamed: 13                  float64\n",
       "Unnamed: 14                  float64\n",
       "Unnamed: 15                  float64\n",
       "Unnamed: 16                  float64\n",
       "Unnamed: 17                  float64\n",
       "Unnamed: 18                  float64\n",
       "Unnamed: 19                  float64\n",
       "Unnamed: 20                  float64\n",
       "Unnamed: 21                  float64\n",
       "Unnamed: 22                  float64\n",
       "Unnamed: 23                  float64\n",
       "Unnamed: 24                  float64\n",
       "Unnamed: 25                  float64\n",
       "dtype: object"
      ]
     },
     "execution_count": 118,
     "metadata": {},
     "output_type": "execute_result"
    }
   ],
   "source": [
    "merged_inner.dtypes"
   ]
  },
  {
   "cell_type": "code",
   "execution_count": 124,
   "metadata": {},
   "outputs": [],
   "source": [
    "merged_inner['Projection'] = merged_inner['Projection'].astype(float)"
   ]
  },
  {
   "cell_type": "code",
   "execution_count": 125,
   "metadata": {},
   "outputs": [],
   "source": [
    "X2 = np.array(merged_inner[['Men', 'Women', 'Black or African American', 'Asian', 'Hispanic or Latino']])\n",
    "y2 = np.array(merged_inner['Projection'])"
   ]
  },
  {
   "cell_type": "code",
   "execution_count": 126,
   "metadata": {},
   "outputs": [],
   "source": [
    "x2_train,x2_test,y2_train,y2_test=train_test_split(X2,y2,test_size=0.2)"
   ]
  },
  {
   "cell_type": "code",
   "execution_count": 134,
   "metadata": {},
   "outputs": [],
   "source": [
    "mlp2 = MLPRegressor(hidden_layer_sizes = (100), solver = 'lbfgs', activation = 'relu', alpha=0.0001)\n",
    "mlp2.fit(x2_train,y2_train)\n",
    "predictions4 = mlp2.predict(x_test)"
   ]
  },
  {
   "cell_type": "code",
   "execution_count": 135,
   "metadata": {},
   "outputs": [
    {
     "name": "stdout",
     "output_type": "stream",
     "text": [
      "[750 760 200]\n"
     ]
    }
   ],
   "source": [
    "y2_test_array = np.array(y2_test).astype(int)\n",
    "print(y2_test_array)"
   ]
  },
  {
   "cell_type": "code",
   "execution_count": 136,
   "metadata": {},
   "outputs": [
    {
     "name": "stdout",
     "output_type": "stream",
     "text": [
      "Average Distance between y2_test and Nueral Network predictions(total employees): [416]\n"
     ]
    }
   ],
   "source": [
    "total_sum = 0\n",
    "\n",
    "for i in range (len(y2_test)):\n",
    "    distance = y2_test_array[[i]] - predictions4[[i]]\n",
    "    total_sum += distance\n",
    "    \n",
    "total_average = abs(total_sum//len(y2_test)).astype(int)   ## Prints the average distance between my prediction and y_train. could easily be switched to y_test - going to try for 'detailed' group\n",
    "print(\"Average Distance between y2_test and Nueral Network predictions(total employees):\", total_average)"
   ]
  },
  {
   "cell_type": "code",
   "execution_count": 137,
   "metadata": {},
   "outputs": [],
   "source": [
    "mlp3 = MLPRegressor(hidden_layer_sizes = (100, 100), solver = 'lbfgs', activation = 'relu', alpha=0.0001)"
   ]
  },
  {
   "cell_type": "code",
   "execution_count": 138,
   "metadata": {},
   "outputs": [],
   "source": [
    "mlp3.fit(x2_train,y2_train)\n",
    "predictions5 = mlp3.predict(x_test)"
   ]
  },
  {
   "cell_type": "code",
   "execution_count": 139,
   "metadata": {},
   "outputs": [
    {
     "name": "stdout",
     "output_type": "stream",
     "text": [
      "Average Distance between y2_test and Nueral Network predictions(total employees): [516]\n"
     ]
    }
   ],
   "source": [
    "total_sum = 0\n",
    "\n",
    "for i in range (len(y2_test)):\n",
    "    distance = y2_test_array[[i]] - predictions5[[i]]\n",
    "    total_sum += distance\n",
    "    \n",
    "total_average = abs(total_sum//len(y2_test)).astype(int)   ## Prints the average distance between my prediction and y_train. could easily be switched to y_test - going to try for 'detailed' group\n",
    "print(\"Average Distance between y2_test and Nueral Network predictions(total employees):\", total_average)"
   ]
  },
  {
   "cell_type": "code",
   "execution_count": null,
   "metadata": {},
   "outputs": [],
   "source": []
  }
 ],
 "metadata": {
  "kernelspec": {
   "display_name": "Python 3",
   "language": "python",
   "name": "python3"
  },
  "language_info": {
   "codemirror_mode": {
    "name": "ipython",
    "version": 3
   },
   "file_extension": ".py",
   "mimetype": "text/x-python",
   "name": "python",
   "nbconvert_exporter": "python",
   "pygments_lexer": "ipython3",
   "version": "3.7.3"
  }
 },
 "nbformat": 4,
 "nbformat_minor": 4
}
