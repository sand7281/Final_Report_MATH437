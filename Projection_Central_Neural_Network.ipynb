{
 "cells": [
  {
   "cell_type": "code",
   "execution_count": 145,
   "metadata": {},
   "outputs": [
    {
     "data": {
      "text/html": [
       "<div>\n",
       "<style scoped>\n",
       "    .dataframe tbody tr th:only-of-type {\n",
       "        vertical-align: middle;\n",
       "    }\n",
       "\n",
       "    .dataframe tbody tr th {\n",
       "        vertical-align: top;\n",
       "    }\n",
       "\n",
       "    .dataframe thead th {\n",
       "        text-align: right;\n",
       "    }\n",
       "</style>\n",
       "<table border=\"1\" class=\"dataframe\">\n",
       "  <thead>\n",
       "    <tr style=\"text-align: right;\">\n",
       "      <th></th>\n",
       "      <th>Unnamed: 0</th>\n",
       "      <th>State FIPS</th>\n",
       "      <th>Area Name</th>\n",
       "      <th>Occupation Code</th>\n",
       "      <th>Occupation Name</th>\n",
       "      <th>Base Year</th>\n",
       "      <th>Base</th>\n",
       "      <th>Projected Year</th>\n",
       "      <th>Projection</th>\n",
       "      <th>Change</th>\n",
       "      <th>...</th>\n",
       "      <th>Unnamed: 16</th>\n",
       "      <th>Unnamed: 17</th>\n",
       "      <th>Unnamed: 18</th>\n",
       "      <th>Unnamed: 19</th>\n",
       "      <th>Unnamed: 20</th>\n",
       "      <th>Unnamed: 21</th>\n",
       "      <th>Unnamed: 22</th>\n",
       "      <th>Unnamed: 23</th>\n",
       "      <th>Unnamed: 24</th>\n",
       "      <th>Unnamed: 25</th>\n",
       "    </tr>\n",
       "  </thead>\n",
       "  <tbody>\n",
       "    <tr>\n",
       "      <th>0</th>\n",
       "      <td>NaN</td>\n",
       "      <td>8</td>\n",
       "      <td>Colorado</td>\n",
       "      <td>00-0000</td>\n",
       "      <td>Total, All Occupations</td>\n",
       "      <td>2018</td>\n",
       "      <td>2922400</td>\n",
       "      <td>2020</td>\n",
       "      <td>3042300</td>\n",
       "      <td>119900</td>\n",
       "      <td>...</td>\n",
       "      <td>NaN</td>\n",
       "      <td>NaN</td>\n",
       "      <td>NaN</td>\n",
       "      <td>NaN</td>\n",
       "      <td>NaN</td>\n",
       "      <td>NaN</td>\n",
       "      <td>NaN</td>\n",
       "      <td>NaN</td>\n",
       "      <td>NaN</td>\n",
       "      <td>NaN</td>\n",
       "    </tr>\n",
       "    <tr>\n",
       "      <th>1</th>\n",
       "      <td>NaN</td>\n",
       "      <td>8</td>\n",
       "      <td>Colorado</td>\n",
       "      <td>11-1011</td>\n",
       "      <td>Chief Executives</td>\n",
       "      <td>2018</td>\n",
       "      <td>1290</td>\n",
       "      <td>2020</td>\n",
       "      <td>1310</td>\n",
       "      <td>20</td>\n",
       "      <td>...</td>\n",
       "      <td>NaN</td>\n",
       "      <td>NaN</td>\n",
       "      <td>NaN</td>\n",
       "      <td>NaN</td>\n",
       "      <td>NaN</td>\n",
       "      <td>NaN</td>\n",
       "      <td>NaN</td>\n",
       "      <td>NaN</td>\n",
       "      <td>NaN</td>\n",
       "      <td>NaN</td>\n",
       "    </tr>\n",
       "    <tr>\n",
       "      <th>2</th>\n",
       "      <td>NaN</td>\n",
       "      <td>8</td>\n",
       "      <td>Colorado</td>\n",
       "      <td>11-1021</td>\n",
       "      <td>General and Operations Managers</td>\n",
       "      <td>2018</td>\n",
       "      <td>46420</td>\n",
       "      <td>2020</td>\n",
       "      <td>48450</td>\n",
       "      <td>2030</td>\n",
       "      <td>...</td>\n",
       "      <td>NaN</td>\n",
       "      <td>NaN</td>\n",
       "      <td>NaN</td>\n",
       "      <td>NaN</td>\n",
       "      <td>NaN</td>\n",
       "      <td>NaN</td>\n",
       "      <td>NaN</td>\n",
       "      <td>NaN</td>\n",
       "      <td>NaN</td>\n",
       "      <td>NaN</td>\n",
       "    </tr>\n",
       "    <tr>\n",
       "      <th>3</th>\n",
       "      <td>NaN</td>\n",
       "      <td>8</td>\n",
       "      <td>Colorado</td>\n",
       "      <td>11-1031</td>\n",
       "      <td>Legislators</td>\n",
       "      <td>2018</td>\n",
       "      <td>720</td>\n",
       "      <td>2020</td>\n",
       "      <td>750</td>\n",
       "      <td>30</td>\n",
       "      <td>...</td>\n",
       "      <td>NaN</td>\n",
       "      <td>NaN</td>\n",
       "      <td>NaN</td>\n",
       "      <td>NaN</td>\n",
       "      <td>NaN</td>\n",
       "      <td>NaN</td>\n",
       "      <td>NaN</td>\n",
       "      <td>NaN</td>\n",
       "      <td>NaN</td>\n",
       "      <td>NaN</td>\n",
       "    </tr>\n",
       "    <tr>\n",
       "      <th>4</th>\n",
       "      <td>NaN</td>\n",
       "      <td>8</td>\n",
       "      <td>Colorado</td>\n",
       "      <td>11-2011.</td>\n",
       "      <td>Advertising and Promotions Managers</td>\n",
       "      <td>2018</td>\n",
       "      <td>590</td>\n",
       "      <td>2020</td>\n",
       "      <td>610</td>\n",
       "      <td>20</td>\n",
       "      <td>...</td>\n",
       "      <td>NaN</td>\n",
       "      <td>NaN</td>\n",
       "      <td>NaN</td>\n",
       "      <td>NaN</td>\n",
       "      <td>NaN</td>\n",
       "      <td>NaN</td>\n",
       "      <td>NaN</td>\n",
       "      <td>NaN</td>\n",
       "      <td>NaN</td>\n",
       "      <td>NaN</td>\n",
       "    </tr>\n",
       "  </tbody>\n",
       "</table>\n",
       "<p>5 rows × 26 columns</p>\n",
       "</div>"
      ],
      "text/plain": [
       "   Unnamed: 0  State FIPS Area Name Occupation Code  \\\n",
       "0         NaN           8  Colorado         00-0000   \n",
       "1         NaN           8  Colorado         11-1011   \n",
       "2         NaN           8  Colorado         11-1021   \n",
       "3         NaN           8  Colorado         11-1031   \n",
       "4         NaN           8  Colorado        11-2011.   \n",
       "\n",
       "                       Occupation Name  Base Year     Base  Projected Year  \\\n",
       "0               Total, All Occupations       2018  2922400            2020   \n",
       "1                     Chief Executives       2018     1290            2020   \n",
       "2      General and Operations Managers       2018    46420            2020   \n",
       "3                          Legislators       2018      720            2020   \n",
       "4  Advertising and Promotions Managers       2018      590            2020   \n",
       "\n",
       "   Projection  Change  ...  Unnamed: 16  Unnamed: 17  Unnamed: 18  \\\n",
       "0     3042300  119900  ...          NaN          NaN          NaN   \n",
       "1        1310      20  ...          NaN          NaN          NaN   \n",
       "2       48450    2030  ...          NaN          NaN          NaN   \n",
       "3         750      30  ...          NaN          NaN          NaN   \n",
       "4         610      20  ...          NaN          NaN          NaN   \n",
       "\n",
       "   Unnamed: 19  Unnamed: 20  Unnamed: 21  Unnamed: 22  Unnamed: 23  \\\n",
       "0          NaN          NaN          NaN          NaN          NaN   \n",
       "1          NaN          NaN          NaN          NaN          NaN   \n",
       "2          NaN          NaN          NaN          NaN          NaN   \n",
       "3          NaN          NaN          NaN          NaN          NaN   \n",
       "4          NaN          NaN          NaN          NaN          NaN   \n",
       "\n",
       "   Unnamed: 24  Unnamed: 25  \n",
       "0          NaN          NaN  \n",
       "1          NaN          NaN  \n",
       "2          NaN          NaN  \n",
       "3          NaN          NaN  \n",
       "4          NaN          NaN  \n",
       "\n",
       "[5 rows x 26 columns]"
      ]
     },
     "execution_count": 145,
     "metadata": {},
     "output_type": "execute_result"
    }
   ],
   "source": [
    "import numpy as np                   # Numerical computation library\n",
    "import pandas as pa                  # Dataframe and Data manipulation Library\n",
    "import matplotlib.pyplot as plt      # Basic plotting functionality Library\n",
    "import seaborn as sn                 # Advanced Data visualization Library\n",
    "import numpy.random as rn\n",
    "from sklearn.linear_model import LinearRegression\n",
    "import matplotlib.colors as pltco # A package to help with coloring plots\n",
    "\n",
    "\n",
    "[x for x in dir(list) if not '__' in x]\n",
    "  \n",
    "# Curreny Exchange Rates compared to the US dollar from around the world 22 for 2008-2018\n",
    "gdp_per_industry = pa.read_csv('https://www.dropbox.com/s/emd7111t9g0rtd2/career_projections_group.csv?dl=1')\n",
    "\n",
    "\n",
    "gdp_per_industry.head()   \n",
    "\n",
    "# First 5 rows inclues the description and then the first 4 entries"
   ]
  },
  {
   "cell_type": "code",
   "execution_count": 146,
   "metadata": {},
   "outputs": [
    {
     "data": {
      "text/plain": [
       "Unnamed: 0                 float64\n",
       "State FIPS                   int64\n",
       "Area Name                   object\n",
       "Occupation Code             object\n",
       "Occupation Name             object\n",
       "Base Year                    int64\n",
       "Base                         int64\n",
       "Projected Year               int64\n",
       "Projection                   int64\n",
       "Change                       int64\n",
       "Percent Change             float64\n",
       "Average Annual Openings      int64\n",
       "Unnamed: 12                float64\n",
       "Unnamed: 13                float64\n",
       "Unnamed: 14                float64\n",
       "Unnamed: 15                float64\n",
       "Unnamed: 16                float64\n",
       "Unnamed: 17                float64\n",
       "Unnamed: 18                float64\n",
       "Unnamed: 19                float64\n",
       "Unnamed: 20                float64\n",
       "Unnamed: 21                float64\n",
       "Unnamed: 22                float64\n",
       "Unnamed: 23                float64\n",
       "Unnamed: 24                float64\n",
       "Unnamed: 25                float64\n",
       "dtype: object"
      ]
     },
     "execution_count": 146,
     "metadata": {},
     "output_type": "execute_result"
    }
   ],
   "source": [
    "gdp_per_industry = gdp_per_industry.drop(gdp_per_industry.index[0])   # Remove the total row\n",
    "gdp_per_industry.dtypes"
   ]
  },
  {
   "cell_type": "code",
   "execution_count": 161,
   "metadata": {},
   "outputs": [],
   "source": [
    "gdp_per_industry = gdp_per_industry.rename(columns={'Occupation Code': 'Occupation_Code'})"
   ]
  },
  {
   "cell_type": "code",
   "execution_count": 162,
   "metadata": {},
   "outputs": [],
   "source": [
    "def remove_strings (X):\n",
    "    if '-' in X:\n",
    "        K = X.find('-')\n",
    "        return X[:K]\n",
    "    else: \n",
    "        return X\n",
    "    \n",
    "def convertFloat(dataframe, feature):\n",
    "    for K in dataframe.index: \n",
    "        dataframe.loc[K,feature] = remove_strings(dataframe.loc[K, feature])\n",
    "        \n",
    "    \n",
    "    dataframe.loc[:, feature] = dataframe.loc[:,feature].astype(\"float\")  \n",
    "    return dataframe"
   ]
  },
  {
   "cell_type": "code",
   "execution_count": 49,
   "metadata": {},
   "outputs": [],
   "source": [
    "v = [0]*X.shape[1]\n",
    "for k in range(X.shape[1]):\n",
    "    M = X[:, k].max()\n",
    "    m = X[:, k].min()\n",
    "    v[k] = (X[:, k] - m)/(M - m)\n",
    "Xn = np.c_[v].transpose()   # Note I could not assign these to X because the type was int not float"
   ]
  },
  {
   "cell_type": "code",
   "execution_count": 92,
   "metadata": {},
   "outputs": [],
   "source": [
    "from sklearn.neural_network import MLPRegressor\n",
    "# A bit of code for plotting the contour in a regression problem with two predictors\n",
    "# Also prints out the training and testing errors\n",
    "\n",
    "def plot_reg_model(reg, X, y):\n",
    "\n",
    "    # We shuffle the data using a random permutation\n",
    "\n",
    "    n = X.shape[0]\n",
    "    test = int(0.20*n)            # We will use a test set made up of 20% of the data from our sample\n",
    "    perm = rn.permutation(n)   \n",
    "    X = X[perm]\n",
    "    y = y[perm]\n",
    "    X_test = X[:test]       # Then create the test\n",
    "    y_test = y[:test]\n",
    "    X_train = X[test:]     # and train sets\n",
    "    y_train = y[test:]\n",
    "    \n",
    "    reg.fit(X_train, y_train) # Fit the model\n",
    "     \n",
    "    nn = 200\n",
    "    # Plot the decision boundary. For that, we will assign a color to each\n",
    "    # point in the mesh [x_min, m_max]x[y_min, y_max].\n",
    "    x_min, x_max = X[:, 0].min()-0.1, X[:, 0].max()+0.1\n",
    "    y_min, y_max = X[:, 1].min()-0.1, X[:, 1].max()+0.1\n",
    "    xx, yy = np.meshgrid(np.linspace(x_min, x_max, nn),   # Changed the function to use linspace rather than arrange\n",
    "        np.linspace(y_min, y_max, nn))                    # This keeps us from having to adjust h.\n",
    "    Z = reg.predict(np.c_[xx.ravel(), yy.ravel()]) # predict\n",
    "\n",
    "    # Put the result into a color plot\n",
    "    Z = Z.reshape(xx.shape)\n",
    "\n",
    "    plt.figure(figsize=(8, 6))\n",
    "    plt.contour(xx, yy, Z)\n",
    "    #plt.xlim(-.005,.2)\n",
    "    #plt.ylim(-.005,.2)\n",
    "\n",
    "    plt.scatter(X_train[:, 0], X_train[:, 1], c=y_train, marker='o')\n",
    "    plt.scatter(X_test[:, 0], X_test[:, 1], c=y_test, marker='+');\n",
    "    \n",
    "    print('Training  R2:{}'.format(reg.score(X_train, y_train)))\n",
    "    print('Testing  R2: {}'.format(reg.score(X_test, y_test)))\n",
    "    \n",
    "    return reg"
   ]
  },
  {
   "cell_type": "code",
   "execution_count": 165,
   "metadata": {},
   "outputs": [
    {
     "name": "stdout",
     "output_type": "stream",
     "text": [
      "Training  R2:0.9997009053456108\n",
      "Testing  R2: 0.9995164230055369\n"
     ]
    },
    {
     "data": {
      "image/png": "[encoded data removed]",
      "text/plain": [
       "<Figure size 576x432 with 1 Axes>"
      ]
     },
     "metadata": {
      "needs_background": "light"
     },
     "output_type": "display_data"
    }
   ],
   "source": [
    "mlp = MLPRegressor(hidden_layer_sizes = (1), learning_rate='adaptive', solver = 'lbfgs', activation = 'identity', alpha=0.00001)\n",
    "plot_reg_model(mlp, Xn, y);"
   ]
  },
  {
   "cell_type": "code",
   "execution_count": 94,
   "metadata": {},
   "outputs": [
    {
     "data": {
      "text/plain": [
       "array([8906281.59252862])"
      ]
     },
     "execution_count": 94,
     "metadata": {},
     "output_type": "execute_result"
    }
   ],
   "source": [
    "mlp.predict([[100., 10.]])"
   ]
  },
  {
   "cell_type": "code",
   "execution_count": 116,
   "metadata": {},
   "outputs": [],
   "source": [
    "A = np.array( gdp_per_industry[['Base', 'Percent Change', 'Change','Average Annual Openings']])\n",
    "b = np.array( gdp_per_industry['Projection'])"
   ]
  },
  {
   "cell_type": "code",
   "execution_count": 97,
   "metadata": {},
   "outputs": [],
   "source": [
    "v = [0]*X.shape[1]\n",
    "for k in range(X.shape[1]):\n",
    "    M = X[:, k].max()\n",
    "    m = X[:, k].min()\n",
    "    v[k] = (X[:, k] - m)/(M - m)\n",
    "Xn = np.c_[v].transpose()   # Note I could not assign these to X because the type was int not float\n"
   ]
  },
  {
   "cell_type": "code",
   "execution_count": 98,
   "metadata": {},
   "outputs": [],
   "source": [
    "def fit_test_model(clf, X, y):\n",
    "    n = X.shape[0]\n",
    "    test = int(0.20*n)            # We will use a test set made up of 20% of the data from our sample\n",
    "    perm = rn.permutation(n)   \n",
    "    X = X[perm]\n",
    "    y = y[perm]\n",
    "    X_test = X[:test]       # Then create the test\n",
    "    y_test = y[:test]\n",
    "    X_train = X[test:]     # and train sets\n",
    "    y_train = y[test:]\n",
    "    \n",
    "    clf.fit(X_train, y_train) # Fit the model\n",
    "    \n",
    "    print('Training Error: {}'.format(clf.score(X_train, y_train)))\n",
    "    print('Testing Error: {}'.format(clf.score(X_test, y_test)))"
   ]
  },
  {
   "cell_type": "code",
   "execution_count": 99,
   "metadata": {},
   "outputs": [],
   "source": [
    "def plot_feature_importances(model, names, tol=10**-3):\n",
    "    n_features = len(names)\n",
    "    plot_names = []\n",
    "    plot_importances = []\n",
    "    \n",
    "    for k in range(n_features):\n",
    "        if model.feature_importances_[k] > tol:\n",
    "            plot_names += [ names[k] ]\n",
    "            plot_importances += [ model.feature_importances_[k] ]\n",
    "    \n",
    "    n_plot = len(plot_names)\n",
    "    \n",
    "    plt.figure(figsize = (10, 6))\n",
    "    plt.barh(range(n_plot), plot_importances, align = 'center')\n",
    "    plt.yticks(np.arange(n_plot), plot_names)\n",
    "    plt.xlabel('Feature importance')\n",
    "    plt.ylabel('Feature')\n",
    "    plt.ylim(-1, n_plot)"
   ]
  },
  {
   "cell_type": "code",
   "execution_count": 117,
   "metadata": {},
   "outputs": [],
   "source": [
    "keep = ['Base', 'Percent Change', 'Change','Average Annual Openings']"
   ]
  },
  {
   "cell_type": "code",
   "execution_count": 118,
   "metadata": {},
   "outputs": [
    {
     "name": "stdout",
     "output_type": "stream",
     "text": [
      "Training Error: 0.45255474452554745\n",
      "Testing Error: 0.19852941176470587\n"
     ]
    }
   ],
   "source": [
    "from sklearn.ensemble import RandomForestClassifier\n",
    "clf = RandomForestClassifier(n_estimators=250, max_depth=5)\n",
    "fit_test_model(clf, A, b)"
   ]
  },
  {
   "cell_type": "code",
   "execution_count": 122,
   "metadata": {},
   "outputs": [
    {
     "data": {
      "image/png": "[encoded data removed]",
      "text/plain": [
       "<Figure size 720x432 with 1 Axes>"
      ]
     },
     "metadata": {
      "needs_background": "light"
     },
     "output_type": "display_data"
    }
   ],
   "source": [
    "plot_feature_importances(clf, keep)"
   ]
  },
  {
   "cell_type": "code",
   "execution_count": null,
   "metadata": {},
   "outputs": [],
   "source": []
  }
 ],
 "metadata": {
  "kernelspec": {
   "display_name": "Python 3",
   "language": "python",
   "name": "python3"
  },
  "language_info": {
   "codemirror_mode": {
    "name": "ipython",
    "version": 3
   },
   "file_extension": ".py",
   "mimetype": "text/x-python",
   "name": "python",
   "nbconvert_exporter": "python",
   "pygments_lexer": "ipython3",
   "version": "3.7.3"
  }
 },
 "nbformat": 4,
 "nbformat_minor": 4
}
